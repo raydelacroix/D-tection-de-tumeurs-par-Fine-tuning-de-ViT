{
 "cells": [
  {
   "cell_type": "markdown",
   "metadata": {},
   "source": [
    "# TP afin de voir les different partie de notre presentation"
   ]
  },
  {
   "cell_type": "markdown",
   "metadata": {},
   "source": [
    "### Travail Pratique : Détection du Cancer du Sein"
   ]
  },
  {
   "cell_type": "markdown",
   "metadata": {},
   "source": [
    "### Objectif\n",
    "### L'objectif de ce TP est de vous familiariser avec les techniques de traitement d'images, y compris le chargement des données, le prétraitement, la segmentation, le filtrage et la modélisation, et de déployer votre modèle dans une application Streamlit."
   ]
  },
  {
   "cell_type": "markdown",
   "metadata": {},
   "source": [
    "### Dataset\n",
    "##### Utilisez le Wisconsin Breast Cancer Dataset disponible à l'adresse suivante : Breast Cancer Wisconsin Dataset.(https://www.kaggle.com/datasets/uciml/breast-cancer-wisconsin-data)"
   ]
  },
  {
   "cell_type": "markdown",
   "metadata": {},
   "source": [
    "# Étapes du TP\n",
    "### 1. Chargement et Préparation des Données\n",
    "Instructions :\n",
    "Téléchargez le dataset et chargez les images.\n",
    "Redimensionnez les images à une taille standard (par exemple, 300x300 pixels).\n",
    "Divisez les données en ensembles d'entraînement (150 images) et de test (50 images)."
   ]
  },
  {
   "cell_type": "code",
   "execution_count": null,
   "metadata": {},
   "outputs": [],
   "source": [
    "import os\n",
    "import cv2\n",
    "import numpy as np\n",
    "\n",
    "# Configuration des chemins et paramètres\n",
    "path_train = 'Training/'   # Dossier d'images d'entraînement\n",
    "path_test = 'Testing/'     # Dossier d'images de test\n",
    "img_size = 300             # Taille de l'image après redimensionnement\n",
    "\n",
    "# Initialisation des listes pour stocker les images et labels\n",
    "train_img = []\n",
    "train_labels = []\n",
    "test_img = []\n",
    "test_labels = []\n",
    "\n",
    "# Chargement des images d'entraînement (150 images)\n",
    "for i in os.listdir(path_train):\n",
    "    for j in os.listdir(os.path.join(path_train, i)):\n",
    "        if len(train_img) < 150:  # Limiter à 150 images pour l'entraînement\n",
    "            img = cv2.resize(cv2.imread(os.path.join(path_train, i, j)), (img_size, img_size))\n",
    "            train_img.append(img)\n",
    "            train_labels.append(i)\n",
    "        else:\n",
    "            break\n",
    "\n",
    "# Chargement des images de test (50 images)\n",
    "for i in os.listdir(path_test):\n",
    "    for j in os.listdir(os.path.join(path_test, i)):\n",
    "        if len(test_img) < 50:  # Limiter à 50 images pour le test\n",
    "            img = cv2.resize(cv2.imread(os.path.join(path_test, i, j)), (img_size, img_size))\n",
    "            test_img.append(img)\n",
    "            test_labels.append(i)\n",
    "        else:\n",
    "            break\n",
    "\n",
    "# Conversion des listes en arrays NumPy\n",
    "train_img = np.array(train_img)\n",
    "train_labels = np.array(train_labels)\n",
    "test_img = np.array(test_img)\n",
    "test_labels = np.array(test_labels)\n",
    "\n",
    "print(f\"Nombre d'images d'entraînement : {len(train_img)}\")\n",
    "print(f\"Nombre d'images de test : {len(test_img)}\")\n"
   ]
  },
  {
   "cell_type": "markdown",
   "metadata": {},
   "source": [
    "## 2. Filtrage d'Images\n",
    "Instructions :\n",
    "Appliquez différents filtres pour améliorer la qualité des images avant la segmentation.\n",
    "Utilisez un filtre gaussien pour réduire le bruit et un filtre de Sobel pour détecter les contours."
   ]
  },
  {
   "cell_type": "code",
   "execution_count": null,
   "metadata": {},
   "outputs": [],
   "source": [
    "import cv2\n",
    "import matplotlib.pyplot as plt\n",
    "\n",
    "# Fonction pour appliquer des filtres\n",
    "def apply_filters(images):\n",
    "    filtered_images = []\n",
    "    for img in images:\n",
    "        # Filtre gaussien pour réduire le bruit\n",
    "        blurred = cv2.GaussianBlur(img, (5, 5), 0)\n",
    "        # Filtre de Sobel pour détecter les contours\n",
    "        sobel_x = cv2.Sobel(blurred, cv2.CV_64F, 1, 0, ksize=5)\n",
    "        sobel_y = cv2.Sobel(blurred, cv2.CV_64F, 0, 1, ksize=5)\n",
    "        sobel_combined = cv2.magnitude(sobel_x, sobel_y)\n",
    "        filtered_images.append(sobel_combined)\n",
    "    return np.array(filtered_images)\n",
    "\n",
    "# Appliquer les filtres aux images d'entraînement\n",
    "filtered_train_images = apply_filters(train_img)\n",
    "\n",
    "# Affichage des résultats\n",
    "plt.figure(figsize=(15, 10))\n",
    "for i in range(5):\n",
    "    plt.subplot(3, 5, i + 1)\n",
    "    plt.imshow(cv2.cvtColor(train_img[i], cv2.COLOR_BGR2RGB))\n",
    "    plt.title('Image Originale')\n",
    "    plt.axis('off')\n",
    "\n",
    "    plt.subplot(3, 5, i + 6)\n",
    "    plt.imshow(filtered_train_images[i], cmap='gray')\n",
    "    plt.title('Image Filtrée')\n",
    "    plt.axis('off')\n",
    "\n",
    "plt.show()\n"
   ]
  },
  {
   "cell_type": "markdown",
   "metadata": {},
   "source": [
    "## 3. Segmentation d'Images\n",
    "Instructions :\n",
    "Appliquez une méthode de segmentation comme K-Means ou seuillage adaptatif sur les images filtrées."
   ]
  },
  {
   "cell_type": "code",
   "execution_count": null,
   "metadata": {},
   "outputs": [],
   "source": [
    "from sklearn.cluster import KMeans\n",
    "\n",
    "def segment_images(images):\n",
    "    segmented_images = []\n",
    "    for img in images:\n",
    "        img_flat = img.flatten().reshape(-1, 1)  # Aplatir l'image pour K-Means\n",
    "        kmeans = KMeans(n_clusters=2)  # Deux clusters : tumeur vs non-tumeur\n",
    "        labels = kmeans.fit_predict(img_flat)\n",
    "        segmented_image = labels.reshape(img.shape).astype(np.uint8) * 255  # Convertir en image binaire\n",
    "        segmented_images.append(segmented_image)\n",
    "    return np.array(segmented_images)\n",
    "\n",
    "# Appliquer la segmentation aux images filtrées\n",
    "segmented_train_images = segment_images(filtered_train_images)\n",
    "\n",
    "# Affichage des résultats de segmentation\n",
    "plt.figure(figsize=(15, 10))\n",
    "for i in range(5):\n",
    "    plt.subplot(3, 5, i + 1)\n",
    "    plt.imshow(cv2.cvtColor(filtered_train_images[i], cv2.COLOR_BGR2RGB))\n",
    "    plt.title('Image Filtrée')\n",
    "    plt.axis('off')\n",
    "\n",
    "    plt.subplot(3, 5, i + 6)\n",
    "    plt.imshow(segmented_train_images[i], cmap='gray')\n",
    "    plt.title('Image Segmentée')\n",
    "    plt.axis('off')\n",
    "\n",
    "plt.show()\n"
   ]
  },
  {
   "cell_type": "markdown",
   "metadata": {},
   "source": [
    "### 4. Modélisation (Fine-Tuning du Modèle Pré-entrainé)\n",
    "Instructions :\n",
    "Utilisez un modèle pré-entraîné comme VGG16 ou ResNet50.\n",
    "Appliquez un fine-tuning sur votre ensemble d'entraînement."
   ]
  },
  {
   "cell_type": "code",
   "execution_count": null,
   "metadata": {},
   "outputs": [],
   "source": [
    "from transformers import ViTForImageClassification, ViTFeatureExtractor\n",
    "from datasets import Dataset\n",
    "\n",
    "# Prétraitement des images pour le modèle (utiliser les images segmentées si nécessaire)\n",
    "def preprocess_images(images):\n",
    "    return [cv2.cvtColor(img.astype(np.uint8), cv2.COLOR_GRAY2RGB) for img in images]\n",
    "\n",
    "train_dataset_dict = {\n",
    "    'image': preprocess_images(segmented_train_images),\n",
    "    'label': train_labels.tolist()\n",
    "}\n",
    "\n",
    "test_dataset_dict = {\n",
    "    'image': preprocess_images(test_img),\n",
    "    'label': test_labels.tolist()\n",
    "}\n",
    "\n",
    "model_name = \"google/vit-base-patch16-224-in21k\"  \n",
    "feature_extractor = ViTFeatureExtractor.from_pretrained(model_name)\n",
    "model = ViTForImageClassification.from_pretrained(model_name, num_labels=len(set(train_labels)))\n",
    "\n",
    "train_dataset = Dataset.from_dict(train_dataset_dict)\n",
    "test_dataset = Dataset.from_dict(test_dataset_dict)\n",
    "\n",
    "def preprocess_function(examples):\n",
    "    return feature_extractor(images=examples['image'], return_tensors=\"pt\")\n",
    "\n",
    "train_dataset = train_dataset.map(preprocess_function, batched=True)\n",
    "test_dataset = test_dataset.map(preprocess_function, batched=True)\n",
    "\n",
    "from transformers import Trainer, TrainingArguments\n",
    "\n",
    "training_args = TrainingArguments(\n",
    "    output_dir='./results',\n",
    "    evaluation_strategy=\"epoch\",\n",
    "    learning_rate=5e-5,\n",
    "    per_device_train_batch_size=8,\n",
    "    per_device_eval_batch_size=8,\n",
    "    num_train_epochs=3,\n",
    "    weight_decay=0.01,\n",
    ")\n",
    "\n",
    "trainer = Trainer(\n",
    "    model=model,\n",
    "    args=training_args,\n",
    "    train_dataset=train_dataset,\n",
    "    eval_dataset=test_dataset,\n",
    ")\n",
    "\n",
    "trainer.train()\n",
    "\n",
    "model.save_pretrained('./fine_tuned_model')\n",
    "feature_extractor.save_pretrained('./fine_tuned_model')\n",
    "\n",
    "print(\"Modèle sauvegardé avec succès !\")\n"
   ]
  },
  {
   "cell_type": "markdown",
   "metadata": {},
   "source": [
    "### 5. Évaluation du Modèle\n",
    "Instructions :\n",
    "Évaluez votre modèle sur l'ensemble de test et affichez les résultats."
   ]
  },
  {
   "cell_type": "code",
   "execution_count": null,
   "metadata": {},
   "outputs": [],
   "source": [
    "eval_results = trainer.evaluate()\n",
    "print(\"Résultats de l'évaluation :\", eval_results)\n"
   ]
  },
  {
   "cell_type": "markdown",
   "metadata": {},
   "source": []
  },
  {
   "cell_type": "markdown",
   "metadata": {},
   "source": [
    "### 6. Application Streamlit pour la Prédiction\n",
    "Instructions :\n",
    "Créez une interface utilisateur simple où les utilisateurs peuvent télécharger une image et obtenir une prédiction."
   ]
  },
  {
   "cell_type": "code",
   "execution_count": null,
   "metadata": {},
   "outputs": [],
   "source": [
    "import streamlit as st\n",
    "from PIL import Image\n",
    "\n",
    "model = ViTForImageClassification.from_pretrained('./fine_tuned_model')\n",
    "feature_extractor = ViTFeatureExtractor.from_pretrained('./fine_tuned_model')\n",
    "\n",
    "st.title(\"Détection de Tumeur dans les Images Médicales\")\n",
    "\n",
    "uploaded_file = st.file_uploader(\"Choisissez une image...\", type=[\"jpg\", \"jpeg\", \"png\"])\n",
    "\n",
    "if uploaded_file is not None:\n",
    "    image = Image.open(uploaded_file).convert(\"L\") # Convertir en niveaux de gris si nécessaire.\n",
    "    \n",
    "    # Appliquer le même prétraitement que précédemment (filtrage et segmentation si nécessaire).\n",
    "    \n",
    "    inputs = feature_extractor(images=image.convert(\"RGB\"), return_tensors=\"pt\")\n",
    "    \n",
    "    with torch.no_grad():\n",
    "        logits = model(**inputs).logits\n",
    "    \n",
    "    predicted_class = logits.argmax(-1).item()\n",
    "    \n",
    "    if predicted_class == 1:\n",
    "        st.write(\"La tumeur a été détectée.\")\n",
    "    else:\n",
    "        st.write(\"Aucune tumeur détectée.\")\n"
   ]
  }
 ],
 "metadata": {
  "language_info": {
   "name": "python"
  }
 },
 "nbformat": 4,
 "nbformat_minor": 2
}
